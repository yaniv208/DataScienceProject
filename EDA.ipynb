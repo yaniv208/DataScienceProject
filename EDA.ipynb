{
 "cells": [
  {
   "cell_type": "markdown",
   "id": "51849eda",
   "metadata": {},
   "source": [
    "### <u>EDA</u>\n",
    "\n",
    "Let's start with imports and reading the csv file into a DataFrame, then showing a few rows of it."
   ]
  },
  {
   "cell_type": "code",
   "execution_count": 1,
   "id": "c26e6ef0",
   "metadata": {},
   "outputs": [],
   "source": [
    "import matplotlib.pyplot as plt \n",
    "import pandas as pd\n",
    "import seaborn as sns\n",
    "\n",
    "sns.set_style('darkgrid')"
   ]
  },
  {
   "cell_type": "code",
   "execution_count": 2,
   "id": "75ddd0c1",
   "metadata": {},
   "outputs": [],
   "source": [
    "df = pd.read_csv('combined_df.csv')"
   ]
  },
  {
   "cell_type": "code",
   "execution_count": 3,
   "id": "9760d98c",
   "metadata": {},
   "outputs": [
    {
     "name": "stdout",
     "output_type": "stream",
     "text": [
      "Total of 60000 entries in the dataset before cleaning.\n"
     ]
    }
   ],
   "source": [
    "print(\"Total of {} entries in the dataset before cleaning.\".format(df.shape[0]))"
   ]
  },
  {
   "cell_type": "code",
   "execution_count": 4,
   "id": "f889d665",
   "metadata": {},
   "outputs": [
    {
     "data": {
      "text/html": [
       "<div>\n",
       "<style scoped>\n",
       "    .dataframe tbody tr th:only-of-type {\n",
       "        vertical-align: middle;\n",
       "    }\n",
       "\n",
       "    .dataframe tbody tr th {\n",
       "        vertical-align: top;\n",
       "    }\n",
       "\n",
       "    .dataframe thead th {\n",
       "        text-align: right;\n",
       "    }\n",
       "</style>\n",
       "<table border=\"1\" class=\"dataframe\">\n",
       "  <thead>\n",
       "    <tr style=\"text-align: right;\">\n",
       "      <th></th>\n",
       "      <th>Title</th>\n",
       "      <th>Author</th>\n",
       "      <th>Genre</th>\n",
       "      <th># Of Pages</th>\n",
       "      <th>Description</th>\n",
       "      <th>Reviews Count</th>\n",
       "      <th>Rating</th>\n",
       "    </tr>\n",
       "  </thead>\n",
       "  <tbody>\n",
       "    <tr>\n",
       "      <th>0</th>\n",
       "      <td>Moishe's Miracle: A Hanukkah Story</td>\n",
       "      <td>Laura Krauss Melmed,David Slonim</td>\n",
       "      <td>Childrens</td>\n",
       "      <td>32</td>\n",
       "      <td>Kind-hearted Moishe is given a magical frying ...</td>\n",
       "      <td>18</td>\n",
       "      <td>4</td>\n",
       "    </tr>\n",
       "    <tr>\n",
       "      <th>1</th>\n",
       "      <td>Count the Monkeys</td>\n",
       "      <td>Mac Barnett,Kevin Cornell</td>\n",
       "      <td>Childrens</td>\n",
       "      <td>32</td>\n",
       "      <td>Kids will giggle as they count all the animals...</td>\n",
       "      <td>499</td>\n",
       "      <td>4</td>\n",
       "    </tr>\n",
       "    <tr>\n",
       "      <th>2</th>\n",
       "      <td>Looking For Trouble</td>\n",
       "      <td>Becky McGraw</td>\n",
       "      <td>Romance</td>\n",
       "      <td>341</td>\n",
       "      <td>Country singer, Jess Sparks, is finally watchi...</td>\n",
       "      <td>23</td>\n",
       "      <td>4</td>\n",
       "    </tr>\n",
       "    <tr>\n",
       "      <th>3</th>\n",
       "      <td>The Alexandria Quartet</td>\n",
       "      <td>Lawrence Durrell</td>\n",
       "      <td>Fiction</td>\n",
       "      <td>884</td>\n",
       "      <td>Lawrence Durrell's series of four novels set i...</td>\n",
       "      <td>458</td>\n",
       "      <td>4</td>\n",
       "    </tr>\n",
       "    <tr>\n",
       "      <th>4</th>\n",
       "      <td>Darling</td>\n",
       "      <td>Yuzuha Ougi</td>\n",
       "      <td>Sequential Art</td>\n",
       "      <td>201</td>\n",
       "      <td>Rio was living a perfectly normal high school ...</td>\n",
       "      <td>2</td>\n",
       "      <td>4</td>\n",
       "    </tr>\n",
       "  </tbody>\n",
       "</table>\n",
       "</div>"
      ],
      "text/plain": [
       "                                Title                            Author  \\\n",
       "0  Moishe's Miracle: A Hanukkah Story  Laura Krauss Melmed,David Slonim   \n",
       "1                   Count the Monkeys         Mac Barnett,Kevin Cornell   \n",
       "2                 Looking For Trouble                      Becky McGraw   \n",
       "3              The Alexandria Quartet                  Lawrence Durrell   \n",
       "4                             Darling                       Yuzuha Ougi   \n",
       "\n",
       "            Genre  # Of Pages  \\\n",
       "0       Childrens          32   \n",
       "1       Childrens          32   \n",
       "2         Romance         341   \n",
       "3         Fiction         884   \n",
       "4  Sequential Art         201   \n",
       "\n",
       "                                         Description  Reviews Count  Rating  \n",
       "0  Kind-hearted Moishe is given a magical frying ...             18       4  \n",
       "1  Kids will giggle as they count all the animals...            499       4  \n",
       "2  Country singer, Jess Sparks, is finally watchi...             23       4  \n",
       "3  Lawrence Durrell's series of four novels set i...            458       4  \n",
       "4  Rio was living a perfectly normal high school ...              2       4  "
      ]
     },
     "execution_count": 4,
     "metadata": {},
     "output_type": "execute_result"
    }
   ],
   "source": [
    "df = df.drop(columns=['ID']) # We get rid of Book's ID as we don't need that column for exploring the data set\n",
    "df.head()"
   ]
  },
  {
   "cell_type": "markdown",
   "id": "fbbd7eb3",
   "metadata": {},
   "source": [
    "---------------\n",
    "\n",
    "Next step is cleaning the data of any Nulls prior to the analysis."
   ]
  },
  {
   "cell_type": "code",
   "execution_count": 5,
   "id": "b71f168a",
   "metadata": {},
   "outputs": [
    {
     "name": "stdout",
     "output_type": "stream",
     "text": [
      "Total of 51343 entries in the dataset after cleaning.\n"
     ]
    }
   ],
   "source": [
    "df = df.dropna()\n",
    "print(\"Total of {} entries in the dataset after cleaning Nulls.\".format(df.shape[0]))"
   ]
  },
  {
   "cell_type": "markdown",
   "id": "0d5df520",
   "metadata": {},
   "source": [
    "about 9,000 entries were deleted."
   ]
  },
  {
   "cell_type": "markdown",
   "id": "3bd4c488",
   "metadata": {},
   "source": [
    "---------\n",
    "## Statistical properties of the dataset:"
   ]
  },
  {
   "cell_type": "code",
   "execution_count": 6,
   "id": "5e7560f7",
   "metadata": {},
   "outputs": [
    {
     "data": {
      "text/html": [
       "<div>\n",
       "<style scoped>\n",
       "    .dataframe tbody tr th:only-of-type {\n",
       "        vertical-align: middle;\n",
       "    }\n",
       "\n",
       "    .dataframe tbody tr th {\n",
       "        vertical-align: top;\n",
       "    }\n",
       "\n",
       "    .dataframe thead th {\n",
       "        text-align: right;\n",
       "    }\n",
       "</style>\n",
       "<table border=\"1\" class=\"dataframe\">\n",
       "  <thead>\n",
       "    <tr style=\"text-align: right;\">\n",
       "      <th></th>\n",
       "      <th># Of Pages</th>\n",
       "      <th>Reviews Count</th>\n",
       "      <th>Rating</th>\n",
       "    </tr>\n",
       "  </thead>\n",
       "  <tbody>\n",
       "    <tr>\n",
       "      <th>count</th>\n",
       "      <td>51343.000000</td>\n",
       "      <td>51343.000000</td>\n",
       "      <td>51343.000000</td>\n",
       "    </tr>\n",
       "    <tr>\n",
       "      <th>mean</th>\n",
       "      <td>264.127788</td>\n",
       "      <td>211.492959</td>\n",
       "      <td>3.904077</td>\n",
       "    </tr>\n",
       "    <tr>\n",
       "      <th>std</th>\n",
       "      <td>402.468304</td>\n",
       "      <td>1539.711149</td>\n",
       "      <td>0.393269</td>\n",
       "    </tr>\n",
       "    <tr>\n",
       "      <th>min</th>\n",
       "      <td>0.000000</td>\n",
       "      <td>0.000000</td>\n",
       "      <td>0.000000</td>\n",
       "    </tr>\n",
       "    <tr>\n",
       "      <th>25%</th>\n",
       "      <td>151.000000</td>\n",
       "      <td>6.000000</td>\n",
       "      <td>4.000000</td>\n",
       "    </tr>\n",
       "    <tr>\n",
       "      <th>50%</th>\n",
       "      <td>248.000000</td>\n",
       "      <td>22.000000</td>\n",
       "      <td>4.000000</td>\n",
       "    </tr>\n",
       "    <tr>\n",
       "      <th>75%</th>\n",
       "      <td>342.000000</td>\n",
       "      <td>86.000000</td>\n",
       "      <td>4.000000</td>\n",
       "    </tr>\n",
       "    <tr>\n",
       "      <th>max</th>\n",
       "      <td>70000.000000</td>\n",
       "      <td>110042.000000</td>\n",
       "      <td>5.000000</td>\n",
       "    </tr>\n",
       "  </tbody>\n",
       "</table>\n",
       "</div>"
      ],
      "text/plain": [
       "         # Of Pages  Reviews Count        Rating\n",
       "count  51343.000000   51343.000000  51343.000000\n",
       "mean     264.127788     211.492959      3.904077\n",
       "std      402.468304    1539.711149      0.393269\n",
       "min        0.000000       0.000000      0.000000\n",
       "25%      151.000000       6.000000      4.000000\n",
       "50%      248.000000      22.000000      4.000000\n",
       "75%      342.000000      86.000000      4.000000\n",
       "max    70000.000000  110042.000000      5.000000"
      ]
     },
     "execution_count": 6,
     "metadata": {},
     "output_type": "execute_result"
    }
   ],
   "source": [
    "df.describe()"
   ]
  },
  {
   "cell_type": "code",
   "execution_count": 7,
   "id": "655266eb",
   "metadata": {},
   "outputs": [
    {
     "data": {
      "text/html": [
       "<div>\n",
       "<style scoped>\n",
       "    .dataframe tbody tr th:only-of-type {\n",
       "        vertical-align: middle;\n",
       "    }\n",
       "\n",
       "    .dataframe tbody tr th {\n",
       "        vertical-align: top;\n",
       "    }\n",
       "\n",
       "    .dataframe thead th {\n",
       "        text-align: right;\n",
       "    }\n",
       "</style>\n",
       "<table border=\"1\" class=\"dataframe\">\n",
       "  <thead>\n",
       "    <tr style=\"text-align: right;\">\n",
       "      <th></th>\n",
       "      <th># Of Pages</th>\n",
       "      <th>Reviews Count</th>\n",
       "      <th>Rating</th>\n",
       "    </tr>\n",
       "  </thead>\n",
       "  <tbody>\n",
       "    <tr>\n",
       "      <th># Of Pages</th>\n",
       "      <td>1.000000</td>\n",
       "      <td>0.029821</td>\n",
       "      <td>0.067393</td>\n",
       "    </tr>\n",
       "    <tr>\n",
       "      <th>Reviews Count</th>\n",
       "      <td>0.029821</td>\n",
       "      <td>1.000000</td>\n",
       "      <td>0.021226</td>\n",
       "    </tr>\n",
       "    <tr>\n",
       "      <th>Rating</th>\n",
       "      <td>0.067393</td>\n",
       "      <td>0.021226</td>\n",
       "      <td>1.000000</td>\n",
       "    </tr>\n",
       "  </tbody>\n",
       "</table>\n",
       "</div>"
      ],
      "text/plain": [
       "               # Of Pages  Reviews Count    Rating\n",
       "# Of Pages       1.000000       0.029821  0.067393\n",
       "Reviews Count    0.029821       1.000000  0.021226\n",
       "Rating           0.067393       0.021226  1.000000"
      ]
     },
     "execution_count": 7,
     "metadata": {},
     "output_type": "execute_result"
    }
   ],
   "source": [
    "df.corr()"
   ]
  },
  {
   "cell_type": "code",
   "execution_count": 8,
   "id": "d11e9913",
   "metadata": {},
   "outputs": [
    {
     "data": {
      "image/png": "[encoded data removed]",
      "text/plain": [
       "<Figure size 432x288 with 2 Axes>"
      ]
     },
     "metadata": {},
     "output_type": "display_data"
    }
   ],
   "source": [
    "sns.heatmap(df.corr());"
   ]
  },
  {
   "cell_type": "markdown",
   "id": "08c2d2c2",
   "metadata": {},
   "source": [
    "As can be observed, there is no correlation between the features, which is what we seek, but there is also insignifincant correlation between the label and the features which might make the learning part more difficult.\n",
    "\n",
    "-----------"
   ]
  },
  {
   "cell_type": "code",
   "execution_count": 9,
   "id": "56e5464c",
   "metadata": {
    "scrolled": true
   },
   "outputs": [
    {
     "data": {
      "image/png": "[encoded data removed]",
      "text/plain": [
       "<Figure size 432x288 with 1 Axes>"
      ]
     },
     "metadata": {},
     "output_type": "display_data"
    }
   ],
   "source": [
    "plt.scatter(df['# Of Pages'], df['Rating']);\n",
    "plt.title('Number Of Pages versus Rating');\n",
    "plt.xlabel('Number Of Pages');\n",
    "plt.ylabel('Rating');"
   ]
  },
  {
   "cell_type": "markdown",
   "id": "1f973a69",
   "metadata": {},
   "source": [
    "\n",
    "Higher number of pages doesn't reflect a better book at all, as there is no apparent correlation. \n",
    "\n",
    "----------\n",
    "\n",
    "In order to be able to plot the histogram properly we plot the values that are within reasonable distance from the mean."
   ]
  },
  {
   "cell_type": "code",
   "execution_count": 10,
   "id": "3de759c5",
   "metadata": {},
   "outputs": [
    {
     "data": {
      "image/png": "[encoded data removed]",
      "text/plain": [
       "<Figure size 432x288 with 1 Axes>"
      ]
     },
     "metadata": {},
     "output_type": "display_data"
    }
   ],
   "source": [
    "s = df[df['# Of Pages'] <= df['# Of Pages'].mean() + 3*df['# Of Pages'].std()]\n",
    "plt.hist(s['# Of Pages']);\n",
    "plt.xlabel('Number Of Pages');\n",
    "plt.ylabel('Number Of Books');"
   ]
  },
  {
   "cell_type": "code",
   "execution_count": 11,
   "id": "7baeaa8b",
   "metadata": {},
   "outputs": [
    {
     "data": {
      "image/png": "[encoded data removed]",
      "text/plain": [
       "<Figure size 432x288 with 1 Axes>"
      ]
     },
     "metadata": {},
     "output_type": "display_data"
    }
   ],
   "source": [
    "s = df[df['Reviews Count'] <= df['Reviews Count'].mean() + 3*df['Reviews Count'].std()]\n",
    "plt.hist(s['Reviews Count']);\n",
    "plt.xlabel('Number Of Reviews');\n",
    "plt.ylabel('Number Of Books');"
   ]
  },
  {
   "cell_type": "markdown",
   "id": "a4dd83c0",
   "metadata": {},
   "source": [
    "### NOTE:\n",
    "If we'd try to plot the distribution of the entire features, the outliers would make it look like a one big piece. Therefore, we now need to take care of the outliers\n",
    "\n",
    "### Outliers cleaning\n",
    "\n",
    "Filtering any outliers that can mislead our model:"
   ]
  },
  {
   "cell_type": "code",
   "execution_count": 12,
   "id": "65dbda05",
   "metadata": {},
   "outputs": [],
   "source": [
    "df = df[df['# Of Pages'] <= 700] # filtering any books that are longer than 700 pages\n",
    "df = df[df['Reviews Count'] <= 600] # filtering any books that were reviewed more than 600 times"
   ]
  },
  {
   "cell_type": "markdown",
   "id": "1a31754d",
   "metadata": {},
   "source": [
    "--------\n",
    "A brief review regarding 10 most frequent genres in our data set:"
   ]
  },
  {
   "cell_type": "code",
   "execution_count": 13,
   "id": "2b95a71a",
   "metadata": {},
   "outputs": [
    {
     "data": {
      "image/png": "[encoded data removed]",
      "text/plain": [
       "<Figure size 864x432 with 1 Axes>"
      ]
     },
     "metadata": {},
     "output_type": "display_data"
    }
   ],
   "source": [
    "# Sources: https://stackoverflow.com/questions/51080491/matplotlib-how-to-change-figsize-for-double-bar-plot/51080743\n",
    "# https://stackoverflow.com/questions/40349753\n",
    "\n",
    "counts = df['Genre'].value_counts()\n",
    "\n",
    "fig, ax = plt.subplots(figsize=(12,6))\n",
    "top_10 = counts[:10] # here we get the most frequent genres in the data set\n",
    "plt.bar(range(10), top_10.values, align='center', tick_label=top_10.keys());\n",
    "plt.title(\"Top ten frequent genres\");"
   ]
  },
  {
   "cell_type": "markdown",
   "id": "9f2b0662",
   "metadata": {},
   "source": [
    "-----------\n",
    "Here's a scatterplot that describes the # of pages versus the rating of each book."
   ]
  },
  {
   "cell_type": "code",
   "execution_count": 14,
   "id": "e744cffe",
   "metadata": {},
   "outputs": [
    {
     "data": {
      "image/png": "[encoded data removed]",
      "text/plain": [
       "<Figure size 432x288 with 1 Axes>"
      ]
     },
     "metadata": {},
     "output_type": "display_data"
    }
   ],
   "source": [
    "plt.scatter(df['# Of Pages'], df['Rating']);\n",
    "plt.title('Number Of Pages versus Rating');\n",
    "plt.xlabel('Number Of Pages');\n",
    "plt.ylabel('Rating');"
   ]
  },
  {
   "cell_type": "markdown",
   "id": "d52b428a",
   "metadata": {},
   "source": [
    "As we can see there is no relationship between the features.\n",
    "\n",
    "-----------\n",
    "## Quality of the data:"
   ]
  },
  {
   "cell_type": "code",
   "execution_count": 15,
   "id": "5c42480f",
   "metadata": {
    "scrolled": true
   },
   "outputs": [
    {
     "data": {
      "image/png": "[encoded data removed]",
      "text/plain": [
       "<Figure size 432x288 with 1 Axes>"
      ]
     },
     "metadata": {},
     "output_type": "display_data"
    }
   ],
   "source": [
    "plt.hist(df['Rating']);"
   ]
  },
  {
   "cell_type": "markdown",
   "id": "17fb446b",
   "metadata": {},
   "source": [
    "----------------"
   ]
  },
  {
   "cell_type": "markdown",
   "id": "c4229824",
   "metadata": {},
   "source": [
    "There's a severe imbalance in the labels of data, hence we'll need to balance it and adjust it to a data of smaller size to make sure the imbalanced label won't interrupt our learning process.\n"
   ]
  },
  {
   "cell_type": "code",
   "execution_count": 16,
   "id": "5c28de2c",
   "metadata": {},
   "outputs": [],
   "source": [
    "balance_df = df[df['Rating'] != 4]\n",
    "rating_4 = df[df['Rating'] == 4]\n",
    "rating_4 = rating_4.sample(n = 7000) # Here we reduce the amount of books that were rated with 4 stars\n",
    "balanced_df = pd.concat([balance_df, rating_4])"
   ]
  },
  {
   "cell_type": "markdown",
   "id": "ab758c80",
   "metadata": {},
   "source": [
    "----------\n",
    "There is only one book rated 1 star, so in order to help the learning process, let's remove it (otherwise it'll disturb the learning)."
   ]
  },
  {
   "cell_type": "code",
   "execution_count": 17,
   "id": "ad290563",
   "metadata": {},
   "outputs": [],
   "source": [
    "balanced_df = balanced_df[balanced_df['Rating']!= 1]"
   ]
  },
  {
   "cell_type": "markdown",
   "id": "d9e45036",
   "metadata": {},
   "source": [
    "Let's observe the changes:"
   ]
  },
  {
   "cell_type": "code",
   "execution_count": 21,
   "id": "d023a283",
   "metadata": {},
   "outputs": [
    {
     "data": {
      "image/png": "[encoded data removed]",
      "text/plain": [
       "<Figure size 432x288 with 1 Axes>"
      ]
     },
     "metadata": {},
     "output_type": "display_data"
    }
   ],
   "source": [
    "plt.hist(balanced_df['Rating']);\n",
    "plt.title('Rating versus # Of Books (After cleaning)');\n",
    "plt.xlabel('Rating');\n",
    "plt.ylabel('# Of Books');"
   ]
  },
  {
   "cell_type": "code",
   "execution_count": 19,
   "id": "e20d182c",
   "metadata": {},
   "outputs": [
    {
     "data": {
      "text/plain": [
       "4    7000\n",
       "3    5629\n",
       "5    1168\n",
       "2      72\n",
       "0      59\n",
       "Name: Rating, dtype: int64"
      ]
     },
     "execution_count": 19,
     "metadata": {},
     "output_type": "execute_result"
    }
   ],
   "source": [
    "balanced_df['Rating'].value_counts()"
   ]
  },
  {
   "cell_type": "code",
   "execution_count": 23,
   "id": "dd41a281",
   "metadata": {},
   "outputs": [
    {
     "name": "stdout",
     "output_type": "stream",
     "text": [
      "Total of 13928 entries in the dataset after cleaning.\n"
     ]
    }
   ],
   "source": [
    "print(\"Total of {} entries in the dataset after cleaning.\".format(balanced_df.shape[0]))"
   ]
  },
  {
   "cell_type": "markdown",
   "id": "75cfba96",
   "metadata": {},
   "source": [
    "Conversion of DataFrame to CSV file:"
   ]
  },
  {
   "cell_type": "code",
   "execution_count": 20,
   "id": "9d860847",
   "metadata": {},
   "outputs": [],
   "source": [
    "balanced_df.to_csv(\"combined_finished_df.csv\", index=False)"
   ]
  },
  {
   "cell_type": "markdown",
   "id": "27322c28",
   "metadata": {},
   "source": [
    "End of EDA phase."
   ]
  }
 ],
 "metadata": {
  "kernelspec": {
   "display_name": "Python 3",
   "language": "python",
   "name": "python3"
  },
  "language_info": {
   "codemirror_mode": {
    "name": "ipython",
    "version": 3
   },
   "file_extension": ".py",
   "mimetype": "text/x-python",
   "name": "python",
   "nbconvert_exporter": "python",
   "pygments_lexer": "ipython3",
   "version": "3.8.8"
  }
 },
 "nbformat": 4,
 "nbformat_minor": 5
}
