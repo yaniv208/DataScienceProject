{
 "cells": [
  {
   "cell_type": "markdown",
   "id": "c3c9a0f4",
   "metadata": {},
   "source": [
    "### <u> Machine Learning</u>\n",
    "\n",
    "\n",
    "Let's start with imports and reading the CSV file:"
   ]
  },
  {
   "cell_type": "code",
   "execution_count": 1,
   "id": "386120cb",
   "metadata": {},
   "outputs": [],
   "source": [
    "import matplotlib.pyplot as plt \n",
    "import pandas as pd\n",
    "from sklearn.linear_model import LogisticRegression\n",
    "from sklearn.feature_extraction.text import CountVectorizer\n",
    "from sklearn.model_selection import train_test_split, cross_validate, GridSearchCV\n",
    "from sklearn.feature_extraction.text import TfidfVectorizer\n",
    "from sklearn.preprocessing import StandardScaler, LabelEncoder\n",
    "from sklearn.compose import ColumnTransformer\n",
    "from sklearn.pipeline import Pipeline\n",
    "from sklearn import metrics\n",
    "from sklearn.metrics import plot_confusion_matrix \n",
    "import numpy as np"
   ]
  },
  {
   "cell_type": "code",
   "execution_count": 5,
   "id": "725abc34",
   "metadata": {},
   "outputs": [],
   "source": [
    "df = pd.read_csv('combined_finished_df.csv')"
   ]
  },
  {
   "cell_type": "code",
   "execution_count": 6,
   "id": "a83c20df",
   "metadata": {},
   "outputs": [
    {
     "data": {
      "text/html": [
       "<div>\n",
       "<style scoped>\n",
       "    .dataframe tbody tr th:only-of-type {\n",
       "        vertical-align: middle;\n",
       "    }\n",
       "\n",
       "    .dataframe tbody tr th {\n",
       "        vertical-align: top;\n",
       "    }\n",
       "\n",
       "    .dataframe thead th {\n",
       "        text-align: right;\n",
       "    }\n",
       "</style>\n",
       "<table border=\"1\" class=\"dataframe\">\n",
       "  <thead>\n",
       "    <tr style=\"text-align: right;\">\n",
       "      <th></th>\n",
       "      <th>Title</th>\n",
       "      <th>Author</th>\n",
       "      <th>Genre</th>\n",
       "      <th># Of Pages</th>\n",
       "      <th>Description</th>\n",
       "      <th>Reviews Count</th>\n",
       "      <th>Rating</th>\n",
       "    </tr>\n",
       "  </thead>\n",
       "  <tbody>\n",
       "    <tr>\n",
       "      <th>0</th>\n",
       "      <td>Wolverine and Jubilee: Curse of the Mutants</td>\n",
       "      <td>Kathryn Immonen,Phil Noto</td>\n",
       "      <td>Sequential Art</td>\n",
       "      <td>120</td>\n",
       "      <td>Straight out of the pages of ,X-Men, and right...</td>\n",
       "      <td>38</td>\n",
       "      <td>3</td>\n",
       "    </tr>\n",
       "    <tr>\n",
       "      <th>1</th>\n",
       "      <td>Don't You Want Me</td>\n",
       "      <td>India Knight</td>\n",
       "      <td>Womens Fiction</td>\n",
       "      <td>256</td>\n",
       "      <td>Sex. There's a lot of it about. But Stella isn...</td>\n",
       "      <td>44</td>\n",
       "      <td>3</td>\n",
       "    </tr>\n",
       "    <tr>\n",
       "      <th>2</th>\n",
       "      <td>The Story of Baha'u'llah: Promised One of All ...</td>\n",
       "      <td>Druzelle Cederquist</td>\n",
       "      <td>Religion</td>\n",
       "      <td>0</td>\n",
       "      <td>An inspiring and dramatically paced introducti...</td>\n",
       "      <td>8</td>\n",
       "      <td>5</td>\n",
       "    </tr>\n",
       "    <tr>\n",
       "      <th>3</th>\n",
       "      <td>The Bracelet</td>\n",
       "      <td>Roberta Gately</td>\n",
       "      <td>Fiction</td>\n",
       "      <td>318</td>\n",
       "      <td>Humanitarian aid Abby Howell and reporter Nick...</td>\n",
       "      <td>80</td>\n",
       "      <td>3</td>\n",
       "    </tr>\n",
       "    <tr>\n",
       "      <th>4</th>\n",
       "      <td>Cresting Tide</td>\n",
       "      <td>Brenda Cothern</td>\n",
       "      <td>Romance</td>\n",
       "      <td>0</td>\n",
       "      <td>Alternate Cover B00895DXSY ,Peter, fleeing fro...</td>\n",
       "      <td>29</td>\n",
       "      <td>3</td>\n",
       "    </tr>\n",
       "  </tbody>\n",
       "</table>\n",
       "</div>"
      ],
      "text/plain": [
       "                                               Title  \\\n",
       "0        Wolverine and Jubilee: Curse of the Mutants   \n",
       "1                                  Don't You Want Me   \n",
       "2  The Story of Baha'u'llah: Promised One of All ...   \n",
       "3                                       The Bracelet   \n",
       "4                                      Cresting Tide   \n",
       "\n",
       "                      Author           Genre  # Of Pages  \\\n",
       "0  Kathryn Immonen,Phil Noto  Sequential Art         120   \n",
       "1               India Knight  Womens Fiction         256   \n",
       "2        Druzelle Cederquist        Religion           0   \n",
       "3             Roberta Gately         Fiction         318   \n",
       "4             Brenda Cothern         Romance           0   \n",
       "\n",
       "                                         Description  Reviews Count  Rating  \n",
       "0  Straight out of the pages of ,X-Men, and right...             38       3  \n",
       "1  Sex. There's a lot of it about. But Stella isn...             44       3  \n",
       "2  An inspiring and dramatically paced introducti...              8       5  \n",
       "3  Humanitarian aid Abby Howell and reporter Nick...             80       3  \n",
       "4  Alternate Cover B00895DXSY ,Peter, fleeing fro...             29       3  "
      ]
     },
     "execution_count": 6,
     "metadata": {},
     "output_type": "execute_result"
    }
   ],
   "source": [
    "df.head()"
   ]
  },
  {
   "cell_type": "markdown",
   "id": "aacc2c42",
   "metadata": {},
   "source": [
    "------------\n",
    "Declaring variables to use with train_test method"
   ]
  },
  {
   "cell_type": "code",
   "execution_count": 8,
   "id": "033c6074",
   "metadata": {},
   "outputs": [],
   "source": [
    "y = df['Rating']\n",
    "text = df['Description']\n",
    "X = df.drop(columns = ['Rating'])"
   ]
  },
  {
   "cell_type": "markdown",
   "id": "befd22f6",
   "metadata": {},
   "source": [
    "Let's divide the data to 2 different sections, Categorical ones and Numericals:"
   ]
  },
  {
   "cell_type": "code",
   "execution_count": 9,
   "id": "175c51f5",
   "metadata": {},
   "outputs": [],
   "source": [
    "# Extracting only the categoricals features \n",
    "categoricals = list(X.select_dtypes('object').columns)\n",
    "categoricals.remove('Description')\n",
    "\n",
    "# Defining a list containing numerical columns only\n",
    "numericals = list(X.select_dtypes(exclude=['object']).columns)\n",
    "if 'Unnamed: 0' in numericals: # Using Pandas always adds a redundant column, so it should be removed.\n",
    "    numericals.remove('Unnamed: 0')"
   ]
  },
  {
   "cell_type": "markdown",
   "id": "ef3a6ec4",
   "metadata": {},
   "source": [
    "---------\n",
    "\n",
    "After some research on the internet, I came across another algorithm other than CountVectorizer.\n",
    "\n",
    "(Sources: https://machinelearningmastery.com/prepare-text-data-machine-learning-scikit-learn/\n",
    "\n",
    "https://scikit-learn.org/stable/modules/generated/sklearn.feature_extraction.text.TfidfVectorizer.html)\n",
    "\n",
    "\"The TfidfVectorizer will tokenize documents, learn the vocabulary and inverse document frequency weightings, and allow you to encode new documents.\""
   ]
  },
  {
   "cell_type": "markdown",
   "id": "8dc11389",
   "metadata": {},
   "source": [
    "To use the description feature we will have to use an algorithm to turn the paragraphs into vectors that the model can use.\n",
    "We will use two different algorithms that I found after reading online; CountVectorizer and TfidfVectorizer.\n",
    "First we will use CountVectorizer and invoke different types of algorithms on the data after pre-processing."
   ]
  },
  {
   "cell_type": "markdown",
   "id": "b36dd97a",
   "metadata": {},
   "source": [
    "# CountVectorizer"
   ]
  },
  {
   "cell_type": "code",
   "execution_count": 37,
   "id": "957f0f84",
   "metadata": {},
   "outputs": [],
   "source": [
    "# Limiting the process to recognize only words that are shown more than 50 times\n",
    "# max_features parameter meaning is limiting the vocabulary size to an upper bound of the specified number\n",
    "vectorizer = CountVectorizer(stop_words='english',max_features=20000)\n",
    "v = vectorizer.fit_transform(text)\n",
    "\n",
    "# Creating a DataFrame containing the embedding: vector representation of text features.\n",
    "#v = tfidf.fit_transform(text)\n",
    "embedding = pd.DataFrame(v.toarray().astype(np.uint8), columns = vectorizer.get_feature_names())"
   ]
  },
  {
   "cell_type": "markdown",
   "id": "e5832a5f",
   "metadata": {},
   "source": [
    "-----------\n",
    "Sources:\n",
    "https://www.mygreatlearning.com/blog/label-encoding-in-python/\n",
    "\n",
    "https://scikit-learn.org/stable/modules/generated/sklearn.preprocessing.LabelEncoder.html\n",
    "\n",
    "In the following block of code, I'll use LabelEncoder, which helps encoding the features into numbers."
   ]
  },
  {
   "cell_type": "code",
   "execution_count": 38,
   "id": "0defd8aa",
   "metadata": {
    "scrolled": true
   },
   "outputs": [],
   "source": [
    "# Initializing LabelEncoder, training the features and adding it to a list\n",
    "\n",
    "features = []\n",
    "for feature in categoricals:\n",
    "    # Encoding each categorical feature. The reason to do this iterativly\n",
    "    # and not for all the categoricals features once is because accessing it non-iterativly\n",
    "    # way messes up the labels\n",
    "    encoder = LabelEncoder()\n",
    "    encoder = encoder.fit(X[feature])\n",
    "    encoded = encoder.transform(X[feature])\n",
    "    encoded = np.array(encoded)\n",
    "    features.append(encoded)\n",
    "\n",
    "# Features holds the encoded categorical variables\n",
    "features = np.array(features)\n",
    "features = np.transpose(features) # Had a problem here with array dimensions, that was the solution\n",
    "\n",
    "features = pd.DataFrame(features,columns=categoricals)\n",
    "\n",
    "# num_features holds all numerical features for scaling\n",
    "num_features = pd.concat([X[numericals], features], axis=1)\n",
    "\n",
    "# Initializing the scaler\n",
    "scaler = StandardScaler()\n",
    "scaler = scaler.fit(num_features)\n",
    "\n",
    "features = scaler.transform(num_features)\n",
    "features = pd.DataFrame(features,columns = numericals + categoricals)"
   ]
  },
  {
   "cell_type": "code",
   "execution_count": 39,
   "id": "40e32eed",
   "metadata": {},
   "outputs": [],
   "source": [
    "# Combining the encoded dataframe (which holds both the numerical\n",
    "# and categorical features) with the embedding of the description feature.\n",
    "final_df = pd.concat([features, embedding], axis=1)"
   ]
  },
  {
   "cell_type": "code",
   "execution_count": 46,
   "id": "cbec23cc",
   "metadata": {},
   "outputs": [
    {
     "name": "stderr",
     "output_type": "stream",
     "text": [
      "E:\\ProgramFiles\\Anaconda3\\lib\\site-packages\\sklearn\\linear_model\\_logistic.py:763: ConvergenceWarning: lbfgs failed to converge (status=1):\n",
      "STOP: TOTAL NO. of ITERATIONS REACHED LIMIT.\n",
      "\n",
      "Increase the number of iterations (max_iter) or scale the data as shown in:\n",
      "    https://scikit-learn.org/stable/modules/preprocessing.html\n",
      "Please also refer to the documentation for alternative solver options:\n",
      "    https://scikit-learn.org/stable/modules/linear_model.html#logistic-regression\n",
      "  n_iter_i = _check_optimize_result(\n",
      "E:\\ProgramFiles\\Anaconda3\\lib\\site-packages\\sklearn\\linear_model\\_logistic.py:763: ConvergenceWarning: lbfgs failed to converge (status=1):\n",
      "STOP: TOTAL NO. of ITERATIONS REACHED LIMIT.\n",
      "\n",
      "Increase the number of iterations (max_iter) or scale the data as shown in:\n",
      "    https://scikit-learn.org/stable/modules/preprocessing.html\n",
      "Please also refer to the documentation for alternative solver options:\n",
      "    https://scikit-learn.org/stable/modules/linear_model.html#logistic-regression\n",
      "  n_iter_i = _check_optimize_result(\n",
      "E:\\ProgramFiles\\Anaconda3\\lib\\site-packages\\sklearn\\linear_model\\_logistic.py:763: ConvergenceWarning: lbfgs failed to converge (status=1):\n",
      "STOP: TOTAL NO. of ITERATIONS REACHED LIMIT.\n",
      "\n",
      "Increase the number of iterations (max_iter) or scale the data as shown in:\n",
      "    https://scikit-learn.org/stable/modules/preprocessing.html\n",
      "Please also refer to the documentation for alternative solver options:\n",
      "    https://scikit-learn.org/stable/modules/linear_model.html#logistic-regression\n",
      "  n_iter_i = _check_optimize_result(\n",
      "E:\\ProgramFiles\\Anaconda3\\lib\\site-packages\\sklearn\\linear_model\\_logistic.py:763: ConvergenceWarning: lbfgs failed to converge (status=1):\n",
      "STOP: TOTAL NO. of ITERATIONS REACHED LIMIT.\n",
      "\n",
      "Increase the number of iterations (max_iter) or scale the data as shown in:\n",
      "    https://scikit-learn.org/stable/modules/preprocessing.html\n",
      "Please also refer to the documentation for alternative solver options:\n",
      "    https://scikit-learn.org/stable/modules/linear_model.html#logistic-regression\n",
      "  n_iter_i = _check_optimize_result(\n",
      "E:\\ProgramFiles\\Anaconda3\\lib\\site-packages\\sklearn\\linear_model\\_logistic.py:763: ConvergenceWarning: lbfgs failed to converge (status=1):\n",
      "STOP: TOTAL NO. of ITERATIONS REACHED LIMIT.\n",
      "\n",
      "Increase the number of iterations (max_iter) or scale the data as shown in:\n",
      "    https://scikit-learn.org/stable/modules/preprocessing.html\n",
      "Please also refer to the documentation for alternative solver options:\n",
      "    https://scikit-learn.org/stable/modules/linear_model.html#logistic-regression\n",
      "  n_iter_i = _check_optimize_result(\n",
      "E:\\ProgramFiles\\Anaconda3\\lib\\site-packages\\sklearn\\linear_model\\_logistic.py:763: ConvergenceWarning: lbfgs failed to converge (status=1):\n",
      "STOP: TOTAL NO. of ITERATIONS REACHED LIMIT.\n",
      "\n",
      "Increase the number of iterations (max_iter) or scale the data as shown in:\n",
      "    https://scikit-learn.org/stable/modules/preprocessing.html\n",
      "Please also refer to the documentation for alternative solver options:\n",
      "    https://scikit-learn.org/stable/modules/linear_model.html#logistic-regression\n",
      "  n_iter_i = _check_optimize_result(\n",
      "E:\\ProgramFiles\\Anaconda3\\lib\\site-packages\\sklearn\\linear_model\\_logistic.py:763: ConvergenceWarning: lbfgs failed to converge (status=1):\n",
      "STOP: TOTAL NO. of ITERATIONS REACHED LIMIT.\n",
      "\n",
      "Increase the number of iterations (max_iter) or scale the data as shown in:\n",
      "    https://scikit-learn.org/stable/modules/preprocessing.html\n",
      "Please also refer to the documentation for alternative solver options:\n",
      "    https://scikit-learn.org/stable/modules/linear_model.html#logistic-regression\n",
      "  n_iter_i = _check_optimize_result(\n",
      "E:\\ProgramFiles\\Anaconda3\\lib\\site-packages\\sklearn\\linear_model\\_logistic.py:763: ConvergenceWarning: lbfgs failed to converge (status=1):\n",
      "STOP: TOTAL NO. of ITERATIONS REACHED LIMIT.\n",
      "\n",
      "Increase the number of iterations (max_iter) or scale the data as shown in:\n",
      "    https://scikit-learn.org/stable/modules/preprocessing.html\n",
      "Please also refer to the documentation for alternative solver options:\n",
      "    https://scikit-learn.org/stable/modules/linear_model.html#logistic-regression\n",
      "  n_iter_i = _check_optimize_result(\n"
     ]
    },
    {
     "data": {
      "text/plain": [
       "GridSearchCV(cv=5,\n",
       "             estimator=Pipeline(steps=[('model',\n",
       "                                        LogisticRegression(max_iter=400,\n",
       "                                                           random_state=42))]),\n",
       "             param_grid={'model__C': [1e-05, 0.5, 1]}, return_train_score=True)"
      ]
     },
     "execution_count": 46,
     "metadata": {},
     "output_type": "execute_result"
    }
   ],
   "source": [
    "# There was a problem with max_iter parameter, link to solution from StackOverflow:\n",
    "# https://stackoverflow.com/a/62659927/15633316\n",
    "pipeline = Pipeline(steps=[('model', LogisticRegression(random_state=42, max_iter=400))])\n",
    "\n",
    "# Source: https://scikit-learn.org/stable/modules/generated/sklearn.model_selection.GridSearchCV.html\n",
    "# https://scikit-learn.org/stable/modules/generated/sklearn.model_selection.cross_val_score.html\n",
    "grid = {'model__C' : [0.00001, 0.5, 1]}\n",
    "\n",
    "grid_search = GridSearchCV(estimator = pipeline,\n",
    "                           param_grid = grid,\n",
    "                           cv = 5,\n",
    "                           return_train_score=True)\n",
    "grid_search.fit(final_df, y)"
   ]
  },
  {
   "cell_type": "code",
   "execution_count": 47,
   "id": "e061a59c",
   "metadata": {},
   "outputs": [
    {
     "name": "stdout",
     "output_type": "stream",
     "text": [
      "Average train score: 0.829240848823113\n",
      "Average Test score: 0.5302515999678653\n"
     ]
    }
   ],
   "source": [
    "print(f\"Average train score: {grid_search.cv_results_['mean_train_score'].mean()}\")\n",
    "print(f\"Average Test score: {grid_search.cv_results_['mean_test_score'].mean()}\")"
   ]
  },
  {
   "cell_type": "code",
   "execution_count": 42,
   "id": "251e60a4",
   "metadata": {},
   "outputs": [
    {
     "name": "stdout",
     "output_type": "stream",
     "text": [
      "Average train score: 0.7833381157843279\n",
      "Average Test score: 0.5715111678766579\n"
     ]
    }
   ],
   "source": [
    "# This block of code was ran with C values of : 0.1,0.01,0.001\n",
    "print(f\"Average train score: {grid_search.cv_results_['mean_train_score'].mean()}\")\n",
    "print(f\"Average Test score: {grid_search.cv_results_['mean_test_score'].mean()}\")"
   ]
  },
  {
   "cell_type": "code",
   "execution_count": 43,
   "id": "debe0a0d",
   "metadata": {},
   "outputs": [
    {
     "data": {
      "text/plain": [
       "Pipeline(steps=[('model', LogisticRegression(max_iter=400, random_state=42))])"
      ]
     },
     "execution_count": 43,
     "metadata": {},
     "output_type": "execute_result"
    }
   ],
   "source": [
    "# C = grid_search.best_params_\n",
    "pipeline = Pipeline(steps=[('model', LogisticRegression(random_state=42, max_iter=400))])\n",
    "\n",
    "# NOTE: For GridSearch I didn't need to split the dataset because \n",
    "# it does cross-validation for us, hence for gathering more information\n",
    "# from confusion matrix we train a model for visualization purposes.\n",
    "X_train, X_test, y_train, y_test = train_test_split(final_df, y)\n",
    "\n",
    "pipeline.fit(X_train, y_train)"
   ]
  },
  {
   "cell_type": "code",
   "execution_count": 45,
   "id": "094a06af",
   "metadata": {},
   "outputs": [
    {
     "data": {
      "text/plain": [
       "0.5496840896036761"
      ]
     },
     "execution_count": 45,
     "metadata": {},
     "output_type": "execute_result"
    },
    {
     "data": {
      "image/png": "[encoded data removed]",
      "text/plain": [
       "<Figure size 432x288 with 2 Axes>"
      ]
     },
     "metadata": {
      "needs_background": "light"
     },
     "output_type": "display_data"
    }
   ],
   "source": [
    "plot_confusion_matrix(pipeline['model'], X_test, y_test)"
   ]
  },
  {
   "cell_type": "markdown",
   "id": "d6aea521",
   "metadata": {},
   "source": [
    "------------\n",
    "\n",
    "Now let's run the same process, this time using Random Forest"
   ]
  },
  {
   "cell_type": "code",
   "execution_count": 14,
   "id": "79fbac0f",
   "metadata": {},
   "outputs": [
    {
     "data": {
      "text/plain": [
       "GridSearchCV(cv=5,\n",
       "             estimator=Pipeline(steps=[('model',\n",
       "                                        RandomForestClassifier(random_state=42))]),\n",
       "             param_grid={'model__max_depth': [10, 50, 100, None]},\n",
       "             return_train_score=True)"
      ]
     },
     "execution_count": 14,
     "metadata": {},
     "output_type": "execute_result"
    }
   ],
   "source": [
    "pipeline1 = Pipeline(steps=[('model',RandomForestClassifier(random_state=42))])\n",
    "# Source: https://scikit-learn.org/stable/modules/generated/sklearn.model_selection.GridSearchCV.html\n",
    "\n",
    "grid = {'model__max_depth': [10,50,100,None]}\n",
    "grid_search = GridSearchCV(estimator = pipeline1,\n",
    "                           param_grid = grid,\n",
    "                           cv = 5,\n",
    "                           return_train_score=True)\n",
    "grid_search.fit(final_df, y)"
   ]
  },
  {
   "cell_type": "code",
   "execution_count": 15,
   "id": "f1441edc",
   "metadata": {},
   "outputs": [
    {
     "name": "stdout",
     "output_type": "stream",
     "text": [
      "Average train score: 0.895239659121279\n",
      "Average Test score: 0.5474141581163292\n"
     ]
    }
   ],
   "source": [
    "print(f\"Average train score: {grid_search.cv_results_['mean_train_score'].mean()}\")\n",
    "print(f\"Average Test score: {grid_search.cv_results_['mean_test_score'].mean()}\")"
   ]
  },
  {
   "cell_type": "code",
   "execution_count": 16,
   "id": "95cad810",
   "metadata": {},
   "outputs": [
    {
     "data": {
      "text/plain": [
       "<sklearn.metrics._plot.confusion_matrix.ConfusionMatrixDisplay at 0x1ebe70da550>"
      ]
     },
     "execution_count": 16,
     "metadata": {},
     "output_type": "execute_result"
    },
    {
     "data": {
      "image/png": "[encoded data removed]",
      "text/plain": [
       "<Figure size 432x288 with 2 Axes>"
      ]
     },
     "metadata": {
      "needs_background": "light"
     },
     "output_type": "display_data"
    }
   ],
   "source": [
    "estimator = grid_search.best_estimator_['model']\n",
    "X_train, X_test, y_train, y_test = train_test_split(final_df,y)\n",
    "\n",
    "pipeline1.fit(X_train, y_train)\n",
    "\n",
    "plot_confusion_matrix(pipeline1, X_test, y_test)"
   ]
  },
  {
   "cell_type": "markdown",
   "id": "bab8966d",
   "metadata": {},
   "source": [
    "# TfidfVectorizer"
   ]
  },
  {
   "cell_type": "code",
   "execution_count": 51,
   "id": "7a96bc8c",
   "metadata": {},
   "outputs": [],
   "source": [
    "# Limiting the process to recognize only words that are shown more than 50 times\n",
    "# max_features parameter meaning is limiting the vocabulary size to an upper bound of the specified number\n",
    "tfidf = TfidfVectorizer(min_df=50, max_features = 80000)\n",
    "v = vectorizer.fit_transform(text)\n",
    "\n",
    "# Creating a DataFrame containing the embedding: vector representation of text features.\n",
    "embedding1 = pd.DataFrame(v.toarray().astype(np.uint8), columns = vectorizer.get_feature_names())"
   ]
  },
  {
   "cell_type": "code",
   "execution_count": 52,
   "id": "f8af2dd5",
   "metadata": {},
   "outputs": [],
   "source": [
    "# Combining the encoded dataframe (which holds both the numerical\n",
    "# and categorical features) with the embedding of the description feature.\n",
    "final_df = pd.concat([features, embedding1], axis=1)"
   ]
  },
  {
   "cell_type": "code",
   "execution_count": 54,
   "id": "bce36f30",
   "metadata": {},
   "outputs": [
    {
     "data": {
      "text/plain": [
       "GridSearchCV(cv=5,\n",
       "             estimator=Pipeline(steps=[('model',\n",
       "                                        LogisticRegression(max_iter=400,\n",
       "                                                           random_state=42))]),\n",
       "             param_grid={'model__C': [0.1, 0.01, 0.001]},\n",
       "             return_train_score=True)"
      ]
     },
     "execution_count": 54,
     "metadata": {},
     "output_type": "execute_result"
    }
   ],
   "source": [
    "pipeline = Pipeline(steps=[('model', LogisticRegression(random_state=42, max_iter=400))])\n",
    "\n",
    "# Source: https://scikit-learn.org/stable/modules/generated/sklearn.model_selection.GridSearchCV.html\n",
    "# https://scikit-learn.org/stable/modules/generated/sklearn.model_selection.cross_val_score.html\n",
    "grid = {'model__C' : [0.1,0.01,0.001]}\n",
    "\n",
    "grid_search = GridSearchCV(estimator = pipeline,\n",
    "                           param_grid = grid,\n",
    "                           cv = 5,\n",
    "                           return_train_score=True)\n",
    "grid_search.fit(final_df, y)"
   ]
  },
  {
   "cell_type": "code",
   "execution_count": 55,
   "id": "f3908b0c",
   "metadata": {},
   "outputs": [
    {
     "name": "stdout",
     "output_type": "stream",
     "text": [
      "Average train score: 0.783338115784328\n",
      "Average Test score: 0.5715111678766579\n"
     ]
    }
   ],
   "source": [
    "print(f\"Average train score: {grid_search.cv_results_['mean_train_score'].mean()}\")\n",
    "print(f\"Average Test score: {grid_search.cv_results_['mean_test_score'].mean()}\")"
   ]
  },
  {
   "cell_type": "code",
   "execution_count": 57,
   "id": "7b84c218",
   "metadata": {},
   "outputs": [
    {
     "name": "stderr",
     "output_type": "stream",
     "text": [
      "E:\\ProgramFiles\\Anaconda3\\lib\\site-packages\\sklearn\\linear_model\\_logistic.py:763: ConvergenceWarning: lbfgs failed to converge (status=1):\n",
      "STOP: TOTAL NO. of ITERATIONS REACHED LIMIT.\n",
      "\n",
      "Increase the number of iterations (max_iter) or scale the data as shown in:\n",
      "    https://scikit-learn.org/stable/modules/preprocessing.html\n",
      "Please also refer to the documentation for alternative solver options:\n",
      "    https://scikit-learn.org/stable/modules/linear_model.html#logistic-regression\n",
      "  n_iter_i = _check_optimize_result(\n"
     ]
    },
    {
     "data": {
      "text/plain": [
       "<sklearn.metrics._plot.confusion_matrix.ConfusionMatrixDisplay at 0x1a880412c40>"
      ]
     },
     "execution_count": 57,
     "metadata": {},
     "output_type": "execute_result"
    },
    {
     "data": {
      "image/png": "[encoded data removed]",
      "text/plain": [
       "<Figure size 432x288 with 2 Axes>"
      ]
     },
     "metadata": {
      "needs_background": "light"
     },
     "output_type": "display_data"
    }
   ],
   "source": [
    "estimator = grid_search.best_estimator_['model']\n",
    "X_train, X_test, y_train, y_test = train_test_split(final_df,y)\n",
    "\n",
    "pipeline.fit(X_train, y_train)\n",
    "\n",
    "plot_confusion_matrix(pipeline, X_test, y_test)"
   ]
  },
  {
   "cell_type": "markdown",
   "id": "7d80c1f6",
   "metadata": {},
   "source": [
    "NOTE: During the ML phase I tried to handle the overfitting problem using various ways. Here's the source for the solutions used in this notebook:\n",
    "https://towardsdatascience.com/handling-overfitting-in-deep-learning-models-c760ee047c6e\n",
    "\n",
    "End of ML phase."
   ]
  }
 ],
 "metadata": {
  "kernelspec": {
   "display_name": "Python 3",
   "language": "python",
   "name": "python3"
  },
  "language_info": {
   "codemirror_mode": {
    "name": "ipython",
    "version": 3
   },
   "file_extension": ".py",
   "mimetype": "text/x-python",
   "name": "python",
   "nbconvert_exporter": "python",
   "pygments_lexer": "ipython3",
   "version": "3.8.8"
  }
 },
 "nbformat": 4,
 "nbformat_minor": 5
}
