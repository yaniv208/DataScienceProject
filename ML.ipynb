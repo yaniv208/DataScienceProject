{
 "cells": [
  {
   "cell_type": "markdown",
   "id": "c3c9a0f4",
   "metadata": {},
   "source": [
    "### <u> Machine Learning</u>\n",
    "\n",
    "\n",
    "Let's start with imports and reading the CSV file:"
   ]
  },
  {
   "cell_type": "code",
   "execution_count": 1,
   "id": "386120cb",
   "metadata": {},
   "outputs": [],
   "source": [
    "import matplotlib.pyplot as plt \n",
    "import pandas as pd\n",
    "from sklearn.linear_model import LogisticRegression\n",
    "from sklearn.tree import DecisionTreeClassifier\n",
    "from sklearn.model_selection import train_test_split, cross_validate, GridSearchCV\n",
    "from sklearn.feature_extraction.text import TfidfVectorizer\n",
    "from sklearn.preprocessing import OneHotEncoder, StandardScaler, LabelEncoder\n",
    "from sklearn.compose import ColumnTransformer\n",
    "from sklearn.pipeline import Pipeline\n",
    "from sklearn import metrics\n",
    "from sklearn.metrics import plot_confusion_matrix \n",
    "import numpy as np"
   ]
  },
  {
   "cell_type": "code",
   "execution_count": 2,
   "id": "725abc34",
   "metadata": {},
   "outputs": [],
   "source": [
    "df = pd.read_csv('combined_finished_df.csv')"
   ]
  },
  {
   "cell_type": "markdown",
   "id": "aacc2c42",
   "metadata": {},
   "source": [
    "------------\n",
    "Declaring variables to use with train_test method"
   ]
  },
  {
   "cell_type": "code",
   "execution_count": 3,
   "id": "033c6074",
   "metadata": {},
   "outputs": [],
   "source": [
    "y = df['Rating']\n",
    "text = df['Description']\n",
    "X = df.drop(columns = ['Rating'])"
   ]
  },
  {
   "cell_type": "markdown",
   "id": "befd22f6",
   "metadata": {},
   "source": [
    "Let's divide the data to 2 different sections, Categorical ones and Numericals:"
   ]
  },
  {
   "cell_type": "code",
   "execution_count": 4,
   "id": "175c51f5",
   "metadata": {},
   "outputs": [],
   "source": [
    "# Extracting only the categoricals features \n",
    "categoricals = list(X.select_dtypes('object').columns)\n",
    "categoricals.remove('Description')\n",
    "\n",
    "# Defining a list containing numerical columns only\n",
    "numericals = list(X.select_dtypes(exclude=['object']).columns)\n",
    "if 'Unnamed: 0' in numericals: # Using Pandas always adds a redundant column, so it should be removed.\n",
    "    numericals.remove('Unnamed: 0')"
   ]
  },
  {
   "cell_type": "markdown",
   "id": "ef3a6ec4",
   "metadata": {},
   "source": [
    "---------\n",
    "\n",
    "After some research on the internet, I came across a more suitable tool other than CountVectorizer.\n",
    "\n",
    "(Sources: https://machinelearningmastery.com/prepare-text-data-machine-learning-scikit-learn/\n",
    "\n",
    "https://scikit-learn.org/stable/modules/generated/sklearn.feature_extraction.text.TfidfVectorizer.html)\n",
    "\n",
    "\"The TfidfVectorizer will tokenize documents, learn the vocabulary and inverse document frequency weightings, and allow you to encode new documents.\""
   ]
  },
  {
   "cell_type": "markdown",
   "id": "8dc11389",
   "metadata": {},
   "source": [
    "Processing the description feature into a numerical representation using TfidVectorizer to learn an embedding for our words space."
   ]
  },
  {
   "cell_type": "code",
   "execution_count": 5,
   "id": "957f0f84",
   "metadata": {},
   "outputs": [],
   "source": [
    "# limiting the process to recognize only words that are shown more than 50 times\n",
    "# max_features parameter meaning is limiting the vocabulary to an upper bound of the specified number\n",
    "tfidf = TfidfVectorizer(min_df=50, max_features=80000)\n",
    "\n",
    "# Creating a DataFrame containing the embedding: vector representation of text features.\n",
    "v = tfidf.fit_transform(text)\n",
    "embedding = pd.DataFrame(v.toarray().astype(np.uint8), columns = tfidf.get_feature_names())"
   ]
  },
  {
   "cell_type": "markdown",
   "id": "e5832a5f",
   "metadata": {},
   "source": [
    "-----------\n",
    "Sources:\n",
    "https://www.mygreatlearning.com/blog/label-encoding-in-python/\n",
    "\n",
    "https://scikit-learn.org/stable/modules/generated/sklearn.preprocessing.LabelEncoder.html\n",
    "\n",
    "In the following block of code, I'll use LabelEncoder, which helps encoding the features into numbers."
   ]
  },
  {
   "cell_type": "code",
   "execution_count": 6,
   "id": "0defd8aa",
   "metadata": {
    "scrolled": true
   },
   "outputs": [],
   "source": [
    "# Initializing LabelEncoder, training the features and adding it to a list\n",
    "\n",
    "features = []\n",
    "for feature in categoricals:\n",
    "    # Encoding each categorical feature. The reason to do this iterativly\n",
    "    # and not for all the categoricals features once is because accessing it non-iterativly\n",
    "    # way messes up the labels\n",
    "    encoder = LabelEncoder()\n",
    "    encoder = encoder.fit(X[feature])\n",
    "    encoded = encoder.transform(X[feature])\n",
    "    encoded = np.array(encoded)\n",
    "    features.append(encoded)\n",
    "\n",
    "# Features holds the encoded categorical variables\n",
    "features = np.array(features)\n",
    "features = np.transpose(features) # Had a problem here with array dimensions, that was the solution.\n",
    "\n",
    "features = pd.DataFrame(features,columns=categoricals)\n",
    "\n",
    "# num_features holds all numerical features for scaling\n",
    "num_features = pd.concat([X[numericals], features], axis=1)\n",
    "\n",
    "# Initializing\n",
    "scaler = StandardScaler()\n",
    "scaler = scaler.fit(num_features)\n",
    "\n",
    "features = scaler.transform(num_features)\n",
    "features = pd.DataFrame(features,columns=numericals+categoricals)"
   ]
  },
  {
   "cell_type": "code",
   "execution_count": 7,
   "id": "40e32eed",
   "metadata": {},
   "outputs": [],
   "source": [
    "# Combining the encoded dataframe (which holds both the numerical\n",
    "# and categorical features) with the embedding of the description feature.\n",
    "final_df = pd.concat([features, embedding], axis=1)"
   ]
  },
  {
   "cell_type": "code",
   "execution_count": 8,
   "id": "d6cd81e1",
   "metadata": {},
   "outputs": [],
   "source": [
    "# There was a problem with max_iter parameter, link to solution from StackOverflow:\n",
    "# https://stackoverflow.com/a/62659927/15633316\n",
    "# parameter explanation: Maximum number of iterations taken for the solvers to converge.\n",
    "pipeline = Pipeline(steps=[('model', LogisticRegression(random_state=42, max_iter=500))])"
   ]
  },
  {
   "cell_type": "code",
   "execution_count": 9,
   "id": "cbec23cc",
   "metadata": {},
   "outputs": [
    {
     "name": "stderr",
     "output_type": "stream",
     "text": [
      "E:\\ProgramFiles\\Anaconda3\\lib\\site-packages\\sklearn\\model_selection\\_split.py:666: UserWarning: The least populated class in y has only 1 members, which is less than n_splits=5.\n",
      "  warnings.warn((\"The least populated class in y has only %d\"\n",
      "E:\\ProgramFiles\\Anaconda3\\lib\\site-packages\\sklearn\\linear_model\\_logistic.py:763: ConvergenceWarning: lbfgs failed to converge (status=1):\n",
      "STOP: TOTAL NO. of ITERATIONS REACHED LIMIT.\n",
      "\n",
      "Increase the number of iterations (max_iter) or scale the data as shown in:\n",
      "    https://scikit-learn.org/stable/modules/preprocessing.html\n",
      "Please also refer to the documentation for alternative solver options:\n",
      "    https://scikit-learn.org/stable/modules/linear_model.html#logistic-regression\n",
      "  n_iter_i = _check_optimize_result(\n",
      "E:\\ProgramFiles\\Anaconda3\\lib\\site-packages\\sklearn\\linear_model\\_logistic.py:763: ConvergenceWarning: lbfgs failed to converge (status=1):\n",
      "STOP: TOTAL NO. of ITERATIONS REACHED LIMIT.\n",
      "\n",
      "Increase the number of iterations (max_iter) or scale the data as shown in:\n",
      "    https://scikit-learn.org/stable/modules/preprocessing.html\n",
      "Please also refer to the documentation for alternative solver options:\n",
      "    https://scikit-learn.org/stable/modules/linear_model.html#logistic-regression\n",
      "  n_iter_i = _check_optimize_result(\n",
      "E:\\ProgramFiles\\Anaconda3\\lib\\site-packages\\sklearn\\linear_model\\_logistic.py:763: ConvergenceWarning: lbfgs failed to converge (status=1):\n",
      "STOP: TOTAL NO. of ITERATIONS REACHED LIMIT.\n",
      "\n",
      "Increase the number of iterations (max_iter) or scale the data as shown in:\n",
      "    https://scikit-learn.org/stable/modules/preprocessing.html\n",
      "Please also refer to the documentation for alternative solver options:\n",
      "    https://scikit-learn.org/stable/modules/linear_model.html#logistic-regression\n",
      "  n_iter_i = _check_optimize_result(\n",
      "E:\\ProgramFiles\\Anaconda3\\lib\\site-packages\\sklearn\\linear_model\\_logistic.py:763: ConvergenceWarning: lbfgs failed to converge (status=1):\n",
      "STOP: TOTAL NO. of ITERATIONS REACHED LIMIT.\n",
      "\n",
      "Increase the number of iterations (max_iter) or scale the data as shown in:\n",
      "    https://scikit-learn.org/stable/modules/preprocessing.html\n",
      "Please also refer to the documentation for alternative solver options:\n",
      "    https://scikit-learn.org/stable/modules/linear_model.html#logistic-regression\n",
      "  n_iter_i = _check_optimize_result(\n",
      "E:\\ProgramFiles\\Anaconda3\\lib\\site-packages\\sklearn\\linear_model\\_logistic.py:763: ConvergenceWarning: lbfgs failed to converge (status=1):\n",
      "STOP: TOTAL NO. of ITERATIONS REACHED LIMIT.\n",
      "\n",
      "Increase the number of iterations (max_iter) or scale the data as shown in:\n",
      "    https://scikit-learn.org/stable/modules/preprocessing.html\n",
      "Please also refer to the documentation for alternative solver options:\n",
      "    https://scikit-learn.org/stable/modules/linear_model.html#logistic-regression\n",
      "  n_iter_i = _check_optimize_result(\n"
     ]
    },
    {
     "data": {
      "text/plain": [
       "GridSearchCV(cv=5,\n",
       "             estimator=Pipeline(steps=[('model',\n",
       "                                        LogisticRegression(max_iter=500,\n",
       "                                                           random_state=42))]),\n",
       "             param_grid={'model__C': [0.5, 1, 50]}, return_train_score=True)"
      ]
     },
     "execution_count": 9,
     "metadata": {},
     "output_type": "execute_result"
    }
   ],
   "source": [
    "# Source: https://scikit-learn.org/stable/modules/generated/sklearn.model_selection.GridSearchCV.html\n",
    "grid = {'model__C': [0.5,1,50]}\n",
    "grid_search = GridSearchCV(estimator = pipeline,\n",
    "                           param_grid = grid,\n",
    "                           cv = 5,\n",
    "                           return_train_score=True)\n",
    "grid_search.fit(final_df, y)"
   ]
  },
  {
   "cell_type": "code",
   "execution_count": 10,
   "id": "251e60a4",
   "metadata": {},
   "outputs": [
    {
     "name": "stdout",
     "output_type": "stream",
     "text": [
      "Average train score: 0.8540859172791366\n",
      "Average Test score: 0.8540262329147102\n"
     ]
    }
   ],
   "source": [
    "print(f\"Average train score: {grid_search.cv_results_['mean_train_score'].mean()}\")\n",
    "print(f\"Average Test score: {grid_search.cv_results_['mean_test_score'].mean()}\")"
   ]
  },
  {
   "cell_type": "code",
   "execution_count": 11,
   "id": "debe0a0d",
   "metadata": {},
   "outputs": [
    {
     "data": {
      "text/plain": [
       "<sklearn.metrics._plot.confusion_matrix.ConfusionMatrixDisplay at 0x20e98359b80>"
      ]
     },
     "execution_count": 11,
     "metadata": {},
     "output_type": "execute_result"
    },
    {
     "data": {
      "image/png": "[encoded data removed]",
      "text/plain": [
       "<Figure size 432x288 with 2 Axes>"
      ]
     },
     "metadata": {
      "needs_background": "light"
     },
     "output_type": "display_data"
    }
   ],
   "source": [
    "estimator = grid_search.best_estimator_['model']\n",
    "# NOTE: For GridSearch we didn't need to split the dataset because \n",
    "# it does cross-validation for us, hence for gathering more information\n",
    "# from confusion matrix we sample a test data for visualization purpose.\n",
    "X_train, X_test, y_train, y_test = train_test_split(final_df,y)\n",
    "\n",
    "plot_confusion_matrix(estimator, X_test, y_test)"
   ]
  },
  {
   "cell_type": "code",
   "execution_count": 12,
   "id": "79fbac0f",
   "metadata": {},
   "outputs": [
    {
     "name": "stderr",
     "output_type": "stream",
     "text": [
      "E:\\ProgramFiles\\Anaconda3\\lib\\site-packages\\sklearn\\model_selection\\_split.py:666: UserWarning: The least populated class in y has only 1 members, which is less than n_splits=5.\n",
      "  warnings.warn((\"The least populated class in y has only %d\"\n"
     ]
    },
    {
     "data": {
      "text/plain": [
       "GridSearchCV(cv=5,\n",
       "             estimator=Pipeline(steps=[('model',\n",
       "                                        DecisionTreeClassifier(random_state=42))]),\n",
       "             param_grid={'model__max_depth': [10, 50, 100, None]},\n",
       "             return_train_score=True)"
      ]
     },
     "execution_count": 12,
     "metadata": {},
     "output_type": "execute_result"
    }
   ],
   "source": [
    "pipeline1= Pipeline(steps=[('model',DecisionTreeClassifier(random_state=42))])\n",
    "# Source: https://scikit-learn.org/stable/modules/generated/sklearn.model_selection.GridSearchCV.html\n",
    "\n",
    "grid = {'model__max_depth': [10,50,100,None]}\n",
    "grid_search = GridSearchCV(estimator = pipeline1,\n",
    "                           param_grid = grid,\n",
    "                           cv = 5,\n",
    "                           return_train_score=True)\n",
    "grid_search.fit(final_df, y)"
   ]
  },
  {
   "cell_type": "code",
   "execution_count": 13,
   "id": "f1441edc",
   "metadata": {},
   "outputs": [
    {
     "name": "stdout",
     "output_type": "stream",
     "text": [
      "Average train score: 0.9655902427815052\n",
      "Average Test score: 0.7754992166555569\n"
     ]
    }
   ],
   "source": [
    "print(f\"Average train score: {grid_search.cv_results_['mean_train_score'].mean()}\")\n",
    "print(f\"Average Test score: {grid_search.cv_results_['mean_test_score'].mean()}\")"
   ]
  },
  {
   "cell_type": "code",
   "execution_count": 14,
   "id": "95cad810",
   "metadata": {},
   "outputs": [
    {
     "data": {
      "text/plain": [
       "<sklearn.metrics._plot.confusion_matrix.ConfusionMatrixDisplay at 0x20e936d6ac0>"
      ]
     },
     "execution_count": 14,
     "metadata": {},
     "output_type": "execute_result"
    },
    {
     "data": {
      "image/png": "[encoded data removed]",
      "text/plain": [
       "<Figure size 432x288 with 2 Axes>"
      ]
     },
     "metadata": {
      "needs_background": "light"
     },
     "output_type": "display_data"
    }
   ],
   "source": [
    "estimator = grid_search.best_estimator_['model']\n",
    "X_train, X_test, y_train, y_test = train_test_split(final_df,y)\n",
    "\n",
    "plot_confusion_matrix(estimator, X_test, y_test)"
   ]
  }
 ],
 "metadata": {
  "kernelspec": {
   "display_name": "Python 3",
   "language": "python",
   "name": "python3"
  },
  "language_info": {
   "codemirror_mode": {
    "name": "ipython",
    "version": 3
   },
   "file_extension": ".py",
   "mimetype": "text/x-python",
   "name": "python",
   "nbconvert_exporter": "python",
   "pygments_lexer": "ipython3",
   "version": "3.8.8"
  }
 },
 "nbformat": 4,
 "nbformat_minor": 5
}
